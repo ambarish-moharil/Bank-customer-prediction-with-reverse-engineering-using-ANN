{
 "cells": [
  {
   "cell_type": "markdown",
   "metadata": {},
   "source": [
    "# Phase 1"
   ]
  },
  {
   "cell_type": "code",
   "execution_count": 2,
   "metadata": {},
   "outputs": [],
   "source": [
    "# Importing the libraries\n",
    "import numpy as np\n",
    "import matplotlib.pyplot as plt\n",
    "import pandas as pd"
   ]
  },
  {
   "cell_type": "code",
   "execution_count": 3,
   "metadata": {},
   "outputs": [],
   "source": [
    "# Importing the dataset\n",
    "dataset = pd.read_csv('Churn_Modelling.csv')\n",
    "X = dataset.iloc[:, 3:13].values\n",
    "y = dataset.iloc[:, 13].values"
   ]
  },
  {
   "cell_type": "code",
   "execution_count": 4,
   "metadata": {},
   "outputs": [
    {
     "data": {
      "text/html": [
       "<div>\n",
       "<style scoped>\n",
       "    .dataframe tbody tr th:only-of-type {\n",
       "        vertical-align: middle;\n",
       "    }\n",
       "\n",
       "    .dataframe tbody tr th {\n",
       "        vertical-align: top;\n",
       "    }\n",
       "\n",
       "    .dataframe thead th {\n",
       "        text-align: right;\n",
       "    }\n",
       "</style>\n",
       "<table border=\"1\" class=\"dataframe\">\n",
       "  <thead>\n",
       "    <tr style=\"text-align: right;\">\n",
       "      <th></th>\n",
       "      <th>RowNumber</th>\n",
       "      <th>CustomerId</th>\n",
       "      <th>Surname</th>\n",
       "      <th>CreditScore</th>\n",
       "      <th>Geography</th>\n",
       "      <th>Gender</th>\n",
       "      <th>Age</th>\n",
       "      <th>Tenure</th>\n",
       "      <th>Balance</th>\n",
       "      <th>NumOfProducts</th>\n",
       "      <th>HasCrCard</th>\n",
       "      <th>IsActiveMember</th>\n",
       "      <th>EstimatedSalary</th>\n",
       "      <th>Exited</th>\n",
       "    </tr>\n",
       "  </thead>\n",
       "  <tbody>\n",
       "    <tr>\n",
       "      <th>0</th>\n",
       "      <td>1</td>\n",
       "      <td>15634602</td>\n",
       "      <td>Hargrave</td>\n",
       "      <td>619</td>\n",
       "      <td>France</td>\n",
       "      <td>Female</td>\n",
       "      <td>42</td>\n",
       "      <td>2</td>\n",
       "      <td>0.00</td>\n",
       "      <td>1</td>\n",
       "      <td>1</td>\n",
       "      <td>1</td>\n",
       "      <td>101348.88</td>\n",
       "      <td>1</td>\n",
       "    </tr>\n",
       "    <tr>\n",
       "      <th>1</th>\n",
       "      <td>2</td>\n",
       "      <td>15647311</td>\n",
       "      <td>Hill</td>\n",
       "      <td>608</td>\n",
       "      <td>Spain</td>\n",
       "      <td>Female</td>\n",
       "      <td>41</td>\n",
       "      <td>1</td>\n",
       "      <td>83807.86</td>\n",
       "      <td>1</td>\n",
       "      <td>0</td>\n",
       "      <td>1</td>\n",
       "      <td>112542.58</td>\n",
       "      <td>0</td>\n",
       "    </tr>\n",
       "    <tr>\n",
       "      <th>2</th>\n",
       "      <td>3</td>\n",
       "      <td>15619304</td>\n",
       "      <td>Onio</td>\n",
       "      <td>502</td>\n",
       "      <td>France</td>\n",
       "      <td>Female</td>\n",
       "      <td>42</td>\n",
       "      <td>8</td>\n",
       "      <td>159660.80</td>\n",
       "      <td>3</td>\n",
       "      <td>1</td>\n",
       "      <td>0</td>\n",
       "      <td>113931.57</td>\n",
       "      <td>1</td>\n",
       "    </tr>\n",
       "    <tr>\n",
       "      <th>3</th>\n",
       "      <td>4</td>\n",
       "      <td>15701354</td>\n",
       "      <td>Boni</td>\n",
       "      <td>699</td>\n",
       "      <td>France</td>\n",
       "      <td>Female</td>\n",
       "      <td>39</td>\n",
       "      <td>1</td>\n",
       "      <td>0.00</td>\n",
       "      <td>2</td>\n",
       "      <td>0</td>\n",
       "      <td>0</td>\n",
       "      <td>93826.63</td>\n",
       "      <td>0</td>\n",
       "    </tr>\n",
       "    <tr>\n",
       "      <th>4</th>\n",
       "      <td>5</td>\n",
       "      <td>15737888</td>\n",
       "      <td>Mitchell</td>\n",
       "      <td>850</td>\n",
       "      <td>Spain</td>\n",
       "      <td>Female</td>\n",
       "      <td>43</td>\n",
       "      <td>2</td>\n",
       "      <td>125510.82</td>\n",
       "      <td>1</td>\n",
       "      <td>1</td>\n",
       "      <td>1</td>\n",
       "      <td>79084.10</td>\n",
       "      <td>0</td>\n",
       "    </tr>\n",
       "  </tbody>\n",
       "</table>\n",
       "</div>"
      ],
      "text/plain": [
       "   RowNumber  CustomerId   Surname  CreditScore Geography  Gender  Age  \\\n",
       "0          1    15634602  Hargrave          619    France  Female   42   \n",
       "1          2    15647311      Hill          608     Spain  Female   41   \n",
       "2          3    15619304      Onio          502    France  Female   42   \n",
       "3          4    15701354      Boni          699    France  Female   39   \n",
       "4          5    15737888  Mitchell          850     Spain  Female   43   \n",
       "\n",
       "   Tenure    Balance  NumOfProducts  HasCrCard  IsActiveMember  \\\n",
       "0       2       0.00              1          1               1   \n",
       "1       1   83807.86              1          0               1   \n",
       "2       8  159660.80              3          1               0   \n",
       "3       1       0.00              2          0               0   \n",
       "4       2  125510.82              1          1               1   \n",
       "\n",
       "   EstimatedSalary  Exited  \n",
       "0        101348.88       1  \n",
       "1        112542.58       0  \n",
       "2        113931.57       1  \n",
       "3         93826.63       0  \n",
       "4         79084.10       0  "
      ]
     },
     "execution_count": 4,
     "metadata": {},
     "output_type": "execute_result"
    }
   ],
   "source": [
    "dataset.head()"
   ]
  },
  {
   "cell_type": "code",
   "execution_count": 5,
   "metadata": {},
   "outputs": [],
   "source": [
    "# Encoding categorical data\n",
    "from sklearn.preprocessing import LabelEncoder, OneHotEncoder\n",
    "labelencoder_X_1 = LabelEncoder()\n",
    "X[:, 1] = labelencoder_X_1.fit_transform(X[:, 1])\n",
    "labelencoder_X_2 = LabelEncoder()\n",
    "X[:, 2] = labelencoder_X_2.fit_transform(X[:, 2])\n",
    "onehotencoder = OneHotEncoder(categorical_features = [1])\n",
    "X = onehotencoder.fit_transform(X).toarray()\n",
    "X = X[:, 1:]"
   ]
  },
  {
   "cell_type": "code",
   "execution_count": 6,
   "metadata": {},
   "outputs": [
    {
     "data": {
      "text/plain": [
       "array([[0.0000000e+00, 0.0000000e+00, 6.1900000e+02, ..., 1.0000000e+00,\n",
       "        1.0000000e+00, 1.0134888e+05],\n",
       "       [0.0000000e+00, 1.0000000e+00, 6.0800000e+02, ..., 0.0000000e+00,\n",
       "        1.0000000e+00, 1.1254258e+05],\n",
       "       [0.0000000e+00, 0.0000000e+00, 5.0200000e+02, ..., 1.0000000e+00,\n",
       "        0.0000000e+00, 1.1393157e+05],\n",
       "       ...,\n",
       "       [0.0000000e+00, 0.0000000e+00, 7.0900000e+02, ..., 0.0000000e+00,\n",
       "        1.0000000e+00, 4.2085580e+04],\n",
       "       [1.0000000e+00, 0.0000000e+00, 7.7200000e+02, ..., 1.0000000e+00,\n",
       "        0.0000000e+00, 9.2888520e+04],\n",
       "       [0.0000000e+00, 0.0000000e+00, 7.9200000e+02, ..., 1.0000000e+00,\n",
       "        0.0000000e+00, 3.8190780e+04]])"
      ]
     },
     "execution_count": 6,
     "metadata": {},
     "output_type": "execute_result"
    }
   ],
   "source": [
    "X"
   ]
  },
  {
   "cell_type": "code",
   "execution_count": 7,
   "metadata": {},
   "outputs": [],
   "source": [
    "# Splitting the dataset into the Training set and Test set\n",
    "from sklearn.model_selection import train_test_split\n",
    "X_train, X_test, y_train, y_test = train_test_split(X, y, test_size = 0.2, random_state = 0)"
   ]
  },
  {
   "cell_type": "code",
   "execution_count": 8,
   "metadata": {},
   "outputs": [],
   "source": [
    "# Feature Scaling\n",
    "from sklearn.preprocessing import StandardScaler\n",
    "sc = StandardScaler()\n",
    "X_train = sc.fit_transform(X_train)\n",
    "X_test = sc.transform(X_test)\n"
   ]
  },
  {
   "cell_type": "code",
   "execution_count": 9,
   "metadata": {},
   "outputs": [
    {
     "name": "stderr",
     "output_type": "stream",
     "text": [
      "/home/ambarish/anaconda3/lib/python3.6/site-packages/h5py/__init__.py:36: FutureWarning: Conversion of the second argument of issubdtype from `float` to `np.floating` is deprecated. In future, it will be treated as `np.float64 == np.dtype(float).type`.\n",
      "  from ._conv import register_converters as _register_converters\n",
      "Using TensorFlow backend.\n",
      "/home/ambarish/anaconda3/lib/python3.6/site-packages/requests/__init__.py:80: RequestsDependencyWarning: urllib3 (1.24.1) or chardet (3.0.4) doesn't match a supported version!\n",
      "  RequestsDependencyWarning)\n"
     ]
    }
   ],
   "source": [
    "# Importing the Keras libraries and packages\n",
    "import keras\n",
    "from keras.models import Sequential\n",
    "from keras.layers import Dense\n"
   ]
  },
  {
   "cell_type": "code",
   "execution_count": 10,
   "metadata": {},
   "outputs": [],
   "source": [
    "# Initialising the ANN\n",
    "classifier = Sequential()"
   ]
  },
  {
   "cell_type": "code",
   "execution_count": 11,
   "metadata": {},
   "outputs": [
    {
     "name": "stderr",
     "output_type": "stream",
     "text": [
      "/home/ambarish/anaconda3/lib/python3.6/site-packages/ipykernel_launcher.py:2: UserWarning: Update your `Dense` call to the Keras 2 API: `Dense(activation=\"relu\", input_dim=11, units=6, kernel_initializer=\"uniform\")`\n",
      "  \n"
     ]
    }
   ],
   "source": [
    "# Adding the input layer and the first hidden layer\n",
    "classifier.add(Dense(output_dim = 6, init = 'uniform', activation = 'relu', input_dim = 11))"
   ]
  },
  {
   "cell_type": "code",
   "execution_count": 12,
   "metadata": {},
   "outputs": [
    {
     "name": "stderr",
     "output_type": "stream",
     "text": [
      "/home/ambarish/anaconda3/lib/python3.6/site-packages/ipykernel_launcher.py:2: UserWarning: Update your `Dense` call to the Keras 2 API: `Dense(activation=\"relu\", units=6, kernel_initializer=\"uniform\")`\n",
      "  \n",
      "/home/ambarish/anaconda3/lib/python3.6/site-packages/ipykernel_launcher.py:3: UserWarning: Update your `Dense` call to the Keras 2 API: `Dense(activation=\"relu\", units=6, kernel_initializer=\"uniform\")`\n",
      "  This is separate from the ipykernel package so we can avoid doing imports until\n",
      "/home/ambarish/anaconda3/lib/python3.6/site-packages/ipykernel_launcher.py:4: UserWarning: Update your `Dense` call to the Keras 2 API: `Dense(activation=\"relu\", units=6, kernel_initializer=\"uniform\")`\n",
      "  after removing the cwd from sys.path.\n"
     ]
    }
   ],
   "source": [
    "# Adding the hidden layers\n",
    "classifier.add(Dense(output_dim = 6, init = 'uniform', activation = 'relu'))\n",
    "classifier.add(Dense(output_dim = 6, init = 'uniform', activation = 'relu'))\n",
    "classifier.add(Dense(output_dim = 6, init = 'uniform', activation = 'relu'))"
   ]
  },
  {
   "cell_type": "code",
   "execution_count": 13,
   "metadata": {},
   "outputs": [
    {
     "name": "stderr",
     "output_type": "stream",
     "text": [
      "/home/ambarish/anaconda3/lib/python3.6/site-packages/ipykernel_launcher.py:2: UserWarning: Update your `Dense` call to the Keras 2 API: `Dense(activation=\"sigmoid\", units=1, kernel_initializer=\"uniform\")`\n",
      "  \n"
     ]
    }
   ],
   "source": [
    "# Adding the output layer\n",
    "classifier.add(Dense(output_dim = 1, init = 'uniform', activation = 'sigmoid'))"
   ]
  },
  {
   "cell_type": "code",
   "execution_count": 14,
   "metadata": {},
   "outputs": [],
   "source": [
    "# Compiling the ANN\n",
    "classifier.compile(optimizer = 'adam', loss = 'binary_crossentropy', metrics =['accuracy'])"
   ]
  },
  {
   "cell_type": "code",
   "execution_count": 15,
   "metadata": {},
   "outputs": [
    {
     "name": "stderr",
     "output_type": "stream",
     "text": [
      "/home/ambarish/anaconda3/lib/python3.6/site-packages/ipykernel_launcher.py:2: UserWarning: The `nb_epoch` argument in `fit` has been renamed `epochs`.\n",
      "  \n"
     ]
    },
    {
     "name": "stdout",
     "output_type": "stream",
     "text": [
      "Epoch 1/100\n",
      "8000/8000 [==============================] - 2s 298us/step - loss: 0.6134 - acc: 0.7954\n",
      "Epoch 2/100\n",
      "8000/8000 [==============================] - 1s 82us/step - loss: 0.5336 - acc: 0.7960\n",
      "Epoch 3/100\n",
      "8000/8000 [==============================] - 1s 82us/step - loss: 0.5119 - acc: 0.7960\n",
      "Epoch 4/100\n",
      "8000/8000 [==============================] - 1s 82us/step - loss: 0.5070 - acc: 0.7960\n",
      "Epoch 5/100\n",
      "8000/8000 [==============================] - 1s 82us/step - loss: 0.5060 - acc: 0.7960\n",
      "Epoch 6/100\n",
      "8000/8000 [==============================] - 1s 91us/step - loss: 0.5060 - acc: 0.7960\n",
      "Epoch 7/100\n",
      "8000/8000 [==============================] - 1s 86us/step - loss: 0.5060 - acc: 0.7960\n",
      "Epoch 8/100\n",
      "8000/8000 [==============================] - 1s 91us/step - loss: 0.5060 - acc: 0.7960\n",
      "Epoch 9/100\n",
      "8000/8000 [==============================] - 1s 93us/step - loss: 0.5060 - acc: 0.7960\n",
      "Epoch 10/100\n",
      "8000/8000 [==============================] - 1s 91us/step - loss: 0.5059 - acc: 0.7960\n",
      "Epoch 11/100\n",
      "8000/8000 [==============================] - 1s 118us/step - loss: 0.5060 - acc: 0.7960\n",
      "Epoch 12/100\n",
      "8000/8000 [==============================] - 1s 120us/step - loss: 0.5059 - acc: 0.7960\n",
      "Epoch 13/100\n",
      "8000/8000 [==============================] - 1s 103us/step - loss: 0.5059 - acc: 0.7960\n",
      "Epoch 14/100\n",
      "8000/8000 [==============================] - 1s 97us/step - loss: 0.5060 - acc: 0.7960\n",
      "Epoch 15/100\n",
      "8000/8000 [==============================] - 1s 90us/step - loss: 0.5060 - acc: 0.7960\n",
      "Epoch 16/100\n",
      "8000/8000 [==============================] - 1s 96us/step - loss: 0.5060 - acc: 0.7960\n",
      "Epoch 17/100\n",
      "8000/8000 [==============================] - 1s 95us/step - loss: 0.5059 - acc: 0.7960\n",
      "Epoch 18/100\n",
      "8000/8000 [==============================] - 1s 87us/step - loss: 0.5060 - acc: 0.7960\n",
      "Epoch 19/100\n",
      "8000/8000 [==============================] - 1s 92us/step - loss: 0.5060 - acc: 0.7960\n",
      "Epoch 20/100\n",
      "8000/8000 [==============================] - 1s 98us/step - loss: 0.5059 - acc: 0.7960\n",
      "Epoch 21/100\n",
      "8000/8000 [==============================] - 1s 87us/step - loss: 0.5060 - acc: 0.7960\n",
      "Epoch 22/100\n",
      "8000/8000 [==============================] - 1s 86us/step - loss: 0.5060 - acc: 0.7960\n",
      "Epoch 23/100\n",
      "8000/8000 [==============================] - 1s 88us/step - loss: 0.5059 - acc: 0.7960\n",
      "Epoch 24/100\n",
      "8000/8000 [==============================] - 1s 90us/step - loss: 0.5060 - acc: 0.7960\n",
      "Epoch 25/100\n",
      "8000/8000 [==============================] - 1s 92us/step - loss: 0.5059 - acc: 0.7960\n",
      "Epoch 26/100\n",
      "8000/8000 [==============================] - 1s 88us/step - loss: 0.5059 - acc: 0.7960\n",
      "Epoch 27/100\n",
      "8000/8000 [==============================] - 1s 86us/step - loss: 0.5059 - acc: 0.7960\n",
      "Epoch 28/100\n",
      "8000/8000 [==============================] - 1s 91us/step - loss: 0.5060 - acc: 0.7960\n",
      "Epoch 29/100\n",
      "8000/8000 [==============================] - 1s 87us/step - loss: 0.5060 - acc: 0.7960\n",
      "Epoch 30/100\n",
      "8000/8000 [==============================] - 1s 86us/step - loss: 0.5059 - acc: 0.7960\n",
      "Epoch 31/100\n",
      "8000/8000 [==============================] - 1s 86us/step - loss: 0.5059 - acc: 0.7960\n",
      "Epoch 32/100\n",
      "8000/8000 [==============================] - 1s 92us/step - loss: 0.5059 - acc: 0.7960\n",
      "Epoch 33/100\n",
      "8000/8000 [==============================] - 1s 87us/step - loss: 0.5060 - acc: 0.7960\n",
      "Epoch 34/100\n",
      "8000/8000 [==============================] - 1s 86us/step - loss: 0.5060 - acc: 0.7960\n",
      "Epoch 35/100\n",
      "8000/8000 [==============================] - 1s 83us/step - loss: 0.5059 - acc: 0.7960\n",
      "Epoch 36/100\n",
      "8000/8000 [==============================] - 1s 92us/step - loss: 0.5059 - acc: 0.7960\n",
      "Epoch 37/100\n",
      "8000/8000 [==============================] - 1s 85us/step - loss: 0.5060 - acc: 0.7960\n",
      "Epoch 38/100\n",
      "8000/8000 [==============================] - 1s 86us/step - loss: 0.5060 - acc: 0.7960\n",
      "Epoch 39/100\n",
      "8000/8000 [==============================] - 1s 85us/step - loss: 0.5060 - acc: 0.7960\n",
      "Epoch 40/100\n",
      "8000/8000 [==============================] - 1s 91us/step - loss: 0.5059 - acc: 0.7960\n",
      "Epoch 41/100\n",
      "8000/8000 [==============================] - 1s 89us/step - loss: 0.5060 - acc: 0.7960\n",
      "Epoch 42/100\n",
      "8000/8000 [==============================] - 1s 90us/step - loss: 0.5060 - acc: 0.7960\n",
      "Epoch 43/100\n",
      "8000/8000 [==============================] - 1s 88us/step - loss: 0.5060 - acc: 0.7960\n",
      "Epoch 44/100\n",
      "8000/8000 [==============================] - 1s 89us/step - loss: 0.5059 - acc: 0.7960\n",
      "Epoch 45/100\n",
      "8000/8000 [==============================] - 1s 88us/step - loss: 0.5060 - acc: 0.7960\n",
      "Epoch 46/100\n",
      "8000/8000 [==============================] - 1s 86us/step - loss: 0.5059 - acc: 0.7960\n",
      "Epoch 47/100\n",
      "8000/8000 [==============================] - 1s 87us/step - loss: 0.5060 - acc: 0.7960\n",
      "Epoch 48/100\n",
      "8000/8000 [==============================] - 1s 85us/step - loss: 0.5060 - acc: 0.7960\n",
      "Epoch 49/100\n",
      "8000/8000 [==============================] - 1s 88us/step - loss: 0.5060 - acc: 0.7960\n",
      "Epoch 50/100\n",
      "8000/8000 [==============================] - 1s 102us/step - loss: 0.5059 - acc: 0.7960\n",
      "Epoch 51/100\n",
      "8000/8000 [==============================] - 1s 96us/step - loss: 0.5059 - acc: 0.7960\n",
      "Epoch 52/100\n",
      "8000/8000 [==============================] - 1s 100us/step - loss: 0.5059 - acc: 0.7960\n",
      "Epoch 53/100\n",
      "8000/8000 [==============================] - 1s 96us/step - loss: 0.5059 - acc: 0.7960\n",
      "Epoch 54/100\n",
      "8000/8000 [==============================] - 1s 111us/step - loss: 0.5060 - acc: 0.7960\n",
      "Epoch 55/100\n",
      "8000/8000 [==============================] - 1s 112us/step - loss: 0.5060 - acc: 0.7960\n",
      "Epoch 56/100\n",
      "8000/8000 [==============================] - 1s 113us/step - loss: 0.5060 - acc: 0.7960\n",
      "Epoch 57/100\n",
      "8000/8000 [==============================] - 1s 121us/step - loss: 0.5059 - acc: 0.7960\n",
      "Epoch 58/100\n",
      "8000/8000 [==============================] - 1s 100us/step - loss: 0.5060 - acc: 0.7960\n",
      "Epoch 59/100\n",
      "8000/8000 [==============================] - 1s 132us/step - loss: 0.5060 - acc: 0.7960\n",
      "Epoch 60/100\n",
      "8000/8000 [==============================] - 1s 112us/step - loss: 0.5059 - acc: 0.7960\n",
      "Epoch 61/100\n",
      "8000/8000 [==============================] - 1s 101us/step - loss: 0.5059 - acc: 0.7960\n",
      "Epoch 62/100\n",
      "8000/8000 [==============================] - 1s 113us/step - loss: 0.5060 - acc: 0.7960\n",
      "Epoch 63/100\n",
      "8000/8000 [==============================] - 1s 94us/step - loss: 0.5060 - acc: 0.7960\n",
      "Epoch 64/100\n",
      "8000/8000 [==============================] - 1s 93us/step - loss: 0.5059 - acc: 0.7960\n",
      "Epoch 65/100\n",
      "8000/8000 [==============================] - 1s 93us/step - loss: 0.5059 - acc: 0.7960\n",
      "Epoch 66/100\n",
      "8000/8000 [==============================] - 1s 92us/step - loss: 0.5060 - acc: 0.7960\n",
      "Epoch 67/100\n",
      "8000/8000 [==============================] - 1s 105us/step - loss: 0.5060 - acc: 0.7960\n",
      "Epoch 68/100\n",
      "8000/8000 [==============================] - 1s 92us/step - loss: 0.5059 - acc: 0.7960\n",
      "Epoch 69/100\n",
      "8000/8000 [==============================] - 1s 92us/step - loss: 0.5060 - acc: 0.7960\n",
      "Epoch 70/100\n",
      "8000/8000 [==============================] - 1s 100us/step - loss: 0.5059 - acc: 0.7960\n",
      "Epoch 71/100\n",
      "8000/8000 [==============================] - 1s 102us/step - loss: 0.5060 - acc: 0.7960\n",
      "Epoch 72/100\n",
      "8000/8000 [==============================] - 1s 97us/step - loss: 0.5059 - acc: 0.7960\n",
      "Epoch 73/100\n",
      "8000/8000 [==============================] - 1s 89us/step - loss: 0.5059 - acc: 0.7960\n",
      "Epoch 74/100\n",
      "8000/8000 [==============================] - 1s 91us/step - loss: 0.5060 - acc: 0.7960\n",
      "Epoch 75/100\n",
      "8000/8000 [==============================] - 1s 86us/step - loss: 0.5060 - acc: 0.7960\n",
      "Epoch 76/100\n",
      "8000/8000 [==============================] - 1s 86us/step - loss: 0.5060 - acc: 0.7960\n",
      "Epoch 77/100\n",
      "8000/8000 [==============================] - 1s 93us/step - loss: 0.5059 - acc: 0.7960\n",
      "Epoch 78/100\n",
      "8000/8000 [==============================] - 1s 88us/step - loss: 0.5060 - acc: 0.7960\n",
      "Epoch 79/100\n",
      "8000/8000 [==============================] - 1s 92us/step - loss: 0.5060 - acc: 0.7960\n",
      "Epoch 80/100\n",
      "8000/8000 [==============================] - 1s 91us/step - loss: 0.5059 - acc: 0.7960\n",
      "Epoch 81/100\n",
      "8000/8000 [==============================] - 1s 105us/step - loss: 0.5060 - acc: 0.7960\n",
      "Epoch 82/100\n",
      "8000/8000 [==============================] - 1s 92us/step - loss: 0.5060 - acc: 0.7960\n",
      "Epoch 83/100\n",
      "8000/8000 [==============================] - 1s 80us/step - loss: 0.5060 - acc: 0.7960\n",
      "Epoch 84/100\n",
      "8000/8000 [==============================] - 1s 116us/step - loss: 0.5059 - acc: 0.7960\n",
      "Epoch 85/100\n",
      "8000/8000 [==============================] - 1s 91us/step - loss: 0.5059 - acc: 0.7960\n",
      "Epoch 86/100\n",
      "8000/8000 [==============================] - 1s 96us/step - loss: 0.5060 - acc: 0.7960\n",
      "Epoch 87/100\n",
      "8000/8000 [==============================] - 1s 94us/step - loss: 0.5060 - acc: 0.7960\n",
      "Epoch 88/100\n",
      "8000/8000 [==============================] - 1s 92us/step - loss: 0.5059 - acc: 0.7960\n",
      "Epoch 89/100\n",
      "8000/8000 [==============================] - 1s 89us/step - loss: 0.5060 - acc: 0.7960\n",
      "Epoch 90/100\n",
      "8000/8000 [==============================] - 1s 92us/step - loss: 0.5059 - acc: 0.7960\n",
      "Epoch 91/100\n",
      "8000/8000 [==============================] - 1s 92us/step - loss: 0.5059 - acc: 0.7960\n",
      "Epoch 92/100\n",
      "8000/8000 [==============================] - 1s 94us/step - loss: 0.5060 - acc: 0.7960\n",
      "Epoch 93/100\n",
      "8000/8000 [==============================] - 1s 92us/step - loss: 0.5059 - acc: 0.7960\n",
      "Epoch 94/100\n",
      "8000/8000 [==============================] - 1s 98us/step - loss: 0.5059 - acc: 0.7960\n",
      "Epoch 95/100\n",
      "8000/8000 [==============================] - 1s 88us/step - loss: 0.5060 - acc: 0.7960\n",
      "Epoch 96/100\n",
      "8000/8000 [==============================] - 1s 93us/step - loss: 0.5060 - acc: 0.7960\n",
      "Epoch 97/100\n",
      "8000/8000 [==============================] - 1s 99us/step - loss: 0.5060 - acc: 0.7960\n",
      "Epoch 98/100\n",
      "8000/8000 [==============================] - 1s 90us/step - loss: 0.5060 - acc: 0.7960\n",
      "Epoch 99/100\n",
      "8000/8000 [==============================] - 1s 88us/step - loss: 0.5059 - acc: 0.7960\n",
      "Epoch 100/100\n",
      "8000/8000 [==============================] - 1s 87us/step - loss: 0.5060 - acc: 0.7960\n"
     ]
    },
    {
     "data": {
      "text/plain": [
       "<keras.callbacks.History at 0x7f00f43aeac8>"
      ]
     },
     "execution_count": 15,
     "metadata": {},
     "output_type": "execute_result"
    }
   ],
   "source": [
    "# Fitting the ANN to the Training set\n",
    "classifier.fit(X_train, y_train, batch_size = 10, nb_epoch = 100)"
   ]
  },
  {
   "cell_type": "code",
   "execution_count": 20,
   "metadata": {},
   "outputs": [],
   "source": [
    "testdata = pd.DataFrame(X_test)"
   ]
  },
  {
   "cell_type": "code",
   "execution_count": 21,
   "metadata": {},
   "outputs": [],
   "source": [
    "#testdata"
   ]
  },
  {
   "cell_type": "code",
   "execution_count": 22,
   "metadata": {},
   "outputs": [],
   "source": [
    "traindata = pd.DataFrame(X_train)"
   ]
  },
  {
   "cell_type": "code",
   "execution_count": 23,
   "metadata": {},
   "outputs": [],
   "source": [
    "#traindata"
   ]
  },
  {
   "cell_type": "code",
   "execution_count": 24,
   "metadata": {},
   "outputs": [],
   "source": [
    "Newdata = testdata.append(traindata, ignore_index= True)"
   ]
  },
  {
   "cell_type": "code",
   "execution_count": 25,
   "metadata": {},
   "outputs": [],
   "source": [
    "#Newdata"
   ]
  },
  {
   "cell_type": "code",
   "execution_count": 26,
   "metadata": {},
   "outputs": [],
   "source": [
    "new_pred = classifier.predict(Newdata)"
   ]
  },
  {
   "cell_type": "code",
   "execution_count": 27,
   "metadata": {},
   "outputs": [],
   "source": [
    "output_df = pd.DataFrame(new_pred, columns = [\"11\"])"
   ]
  },
  {
   "cell_type": "code",
   "execution_count": 28,
   "metadata": {},
   "outputs": [],
   "source": [
    "#output_df"
   ]
  },
  {
   "cell_type": "code",
   "execution_count": 29,
   "metadata": {},
   "outputs": [],
   "source": [
    "latest_dataset = pd.concat([Newdata, output_df], axis = 1)"
   ]
  },
  {
   "cell_type": "code",
   "execution_count": 30,
   "metadata": {},
   "outputs": [
    {
     "data": {
      "text/html": [
       "<div>\n",
       "<style scoped>\n",
       "    .dataframe tbody tr th:only-of-type {\n",
       "        vertical-align: middle;\n",
       "    }\n",
       "\n",
       "    .dataframe tbody tr th {\n",
       "        vertical-align: top;\n",
       "    }\n",
       "\n",
       "    .dataframe thead th {\n",
       "        text-align: right;\n",
       "    }\n",
       "</style>\n",
       "<table border=\"1\" class=\"dataframe\">\n",
       "  <thead>\n",
       "    <tr style=\"text-align: right;\">\n",
       "      <th></th>\n",
       "      <th>0</th>\n",
       "      <th>1</th>\n",
       "      <th>2</th>\n",
       "      <th>3</th>\n",
       "      <th>4</th>\n",
       "      <th>5</th>\n",
       "      <th>6</th>\n",
       "      <th>7</th>\n",
       "      <th>8</th>\n",
       "      <th>9</th>\n",
       "      <th>10</th>\n",
       "      <th>11</th>\n",
       "    </tr>\n",
       "  </thead>\n",
       "  <tbody>\n",
       "    <tr>\n",
       "      <th>0</th>\n",
       "      <td>1.754865</td>\n",
       "      <td>-0.573694</td>\n",
       "      <td>-0.552043</td>\n",
       "      <td>-1.091687</td>\n",
       "      <td>-0.368904</td>\n",
       "      <td>1.044737</td>\n",
       "      <td>0.879303</td>\n",
       "      <td>-0.921591</td>\n",
       "      <td>0.642595</td>\n",
       "      <td>0.968738</td>\n",
       "      <td>1.610857</td>\n",
       "      <td>0.204149</td>\n",
       "    </tr>\n",
       "    <tr>\n",
       "      <th>1</th>\n",
       "      <td>-0.569844</td>\n",
       "      <td>-0.573694</td>\n",
       "      <td>-1.314903</td>\n",
       "      <td>-1.091687</td>\n",
       "      <td>0.109617</td>\n",
       "      <td>-1.031415</td>\n",
       "      <td>0.429722</td>\n",
       "      <td>-0.921591</td>\n",
       "      <td>0.642595</td>\n",
       "      <td>-1.032270</td>\n",
       "      <td>0.495870</td>\n",
       "      <td>0.204149</td>\n",
       "    </tr>\n",
       "    <tr>\n",
       "      <th>2</th>\n",
       "      <td>-0.569844</td>\n",
       "      <td>1.743090</td>\n",
       "      <td>0.571630</td>\n",
       "      <td>-1.091687</td>\n",
       "      <td>0.301026</td>\n",
       "      <td>1.044737</td>\n",
       "      <td>0.308583</td>\n",
       "      <td>-0.921591</td>\n",
       "      <td>0.642595</td>\n",
       "      <td>0.968738</td>\n",
       "      <td>-0.424787</td>\n",
       "      <td>0.204149</td>\n",
       "    </tr>\n",
       "    <tr>\n",
       "      <th>3</th>\n",
       "      <td>-0.569844</td>\n",
       "      <td>-0.573694</td>\n",
       "      <td>1.416961</td>\n",
       "      <td>0.916013</td>\n",
       "      <td>-0.656016</td>\n",
       "      <td>-0.339364</td>\n",
       "      <td>0.575336</td>\n",
       "      <td>-0.921591</td>\n",
       "      <td>-1.556190</td>\n",
       "      <td>-1.032270</td>\n",
       "      <td>-0.187777</td>\n",
       "      <td>0.204149</td>\n",
       "    </tr>\n",
       "    <tr>\n",
       "      <th>4</th>\n",
       "      <td>1.754865</td>\n",
       "      <td>-0.573694</td>\n",
       "      <td>0.571630</td>\n",
       "      <td>0.916013</td>\n",
       "      <td>-0.081791</td>\n",
       "      <td>0.006661</td>\n",
       "      <td>1.389611</td>\n",
       "      <td>0.809503</td>\n",
       "      <td>0.642595</td>\n",
       "      <td>0.968738</td>\n",
       "      <td>0.616842</td>\n",
       "      <td>0.204149</td>\n",
       "    </tr>\n",
       "  </tbody>\n",
       "</table>\n",
       "</div>"
      ],
      "text/plain": [
       "          0         1         2         3         4         5         6  \\\n",
       "0  1.754865 -0.573694 -0.552043 -1.091687 -0.368904  1.044737  0.879303   \n",
       "1 -0.569844 -0.573694 -1.314903 -1.091687  0.109617 -1.031415  0.429722   \n",
       "2 -0.569844  1.743090  0.571630 -1.091687  0.301026  1.044737  0.308583   \n",
       "3 -0.569844 -0.573694  1.416961  0.916013 -0.656016 -0.339364  0.575336   \n",
       "4  1.754865 -0.573694  0.571630  0.916013 -0.081791  0.006661  1.389611   \n",
       "\n",
       "          7         8         9        10        11  \n",
       "0 -0.921591  0.642595  0.968738  1.610857  0.204149  \n",
       "1 -0.921591  0.642595 -1.032270  0.495870  0.204149  \n",
       "2 -0.921591  0.642595  0.968738 -0.424787  0.204149  \n",
       "3 -0.921591 -1.556190 -1.032270 -0.187777  0.204149  \n",
       "4  0.809503  0.642595  0.968738  0.616842  0.204149  "
      ]
     },
     "execution_count": 30,
     "metadata": {},
     "output_type": "execute_result"
    }
   ],
   "source": [
    "latest_dataset.head()"
   ]
  },
  {
   "cell_type": "code",
   "execution_count": 31,
   "metadata": {},
   "outputs": [],
   "source": [
    "X_new = latest_dataset.iloc[:, 11].values\n",
    "y_new = latest_dataset.iloc[:, 0:11].values"
   ]
  },
  {
   "cell_type": "code",
   "execution_count": 32,
   "metadata": {},
   "outputs": [
    {
     "data": {
      "text/plain": [
       "array([0.20414938, 0.20414938, 0.20414938, ..., 0.20414938, 0.20414938,\n",
       "       0.20414938], dtype=float32)"
      ]
     },
     "execution_count": 32,
     "metadata": {},
     "output_type": "execute_result"
    }
   ],
   "source": [
    "X_new"
   ]
  },
  {
   "cell_type": "code",
   "execution_count": 33,
   "metadata": {},
   "outputs": [],
   "source": [
    "X_new1 = X_new.reshape(10000,1)"
   ]
  },
  {
   "cell_type": "code",
   "execution_count": 34,
   "metadata": {},
   "outputs": [
    {
     "data": {
      "text/plain": [
       "array([[0.20414938],\n",
       "       [0.20414938],\n",
       "       [0.20414938],\n",
       "       ...,\n",
       "       [0.20414938],\n",
       "       [0.20414938],\n",
       "       [0.20414938]], dtype=float32)"
      ]
     },
     "execution_count": 34,
     "metadata": {},
     "output_type": "execute_result"
    }
   ],
   "source": [
    "X_new1"
   ]
  },
  {
   "cell_type": "code",
   "execution_count": 35,
   "metadata": {},
   "outputs": [],
   "source": [
    "X_new_train, X_new_test, y_new_train, y_new_test = train_test_split(X_new1, y_new, test_size = 0.5, random_state= 1)"
   ]
  },
  {
   "cell_type": "code",
   "execution_count": 36,
   "metadata": {},
   "outputs": [
    {
     "data": {
      "text/plain": [
       "array([[0.20414938],\n",
       "       [0.20414938],\n",
       "       [0.20414938],\n",
       "       ...,\n",
       "       [0.20414938],\n",
       "       [0.20414938],\n",
       "       [0.20414938]], dtype=float32)"
      ]
     },
     "execution_count": 36,
     "metadata": {},
     "output_type": "execute_result"
    }
   ],
   "source": [
    "X_new_train"
   ]
  },
  {
   "cell_type": "code",
   "execution_count": 37,
   "metadata": {},
   "outputs": [
    {
     "data": {
      "text/plain": [
       "array([[-0.5698444 ,  1.74309049,  0.56132079, ..., -1.55619021,\n",
       "         0.9687384 , -1.24327061],\n",
       "       [-0.5698444 , -0.57369368,  0.32421559, ..., -1.55619021,\n",
       "         0.9687384 , -0.30068122],\n",
       "       [ 1.75486502, -0.57369368, -1.21181375, ..., -1.55619021,\n",
       "        -1.03227043, -0.35827451],\n",
       "       ...,\n",
       "       [-0.5698444 ,  1.74309049, -1.84065797, ..., -1.55619021,\n",
       "         0.9687384 , -0.74475066],\n",
       "       [-0.5698444 , -0.57369368, -1.57262601, ..., -1.55619021,\n",
       "        -1.03227043,  0.61915969],\n",
       "       [-0.5698444 , -0.57369368,  0.47884941, ...,  0.64259497,\n",
       "        -1.03227043, -0.61529117]])"
      ]
     },
     "execution_count": 37,
     "metadata": {},
     "output_type": "execute_result"
    }
   ],
   "source": [
    "y_new_train"
   ]
  },
  {
   "cell_type": "markdown",
   "metadata": {},
   "source": [
    "# Phase 2"
   ]
  },
  {
   "cell_type": "markdown",
   "metadata": {},
   "source": [
    "# Using Multiple Regression"
   ]
  },
  {
   "cell_type": "code",
   "execution_count": 38,
   "metadata": {},
   "outputs": [],
   "source": [
    "from sklearn.linear_model import LinearRegression"
   ]
  },
  {
   "cell_type": "code",
   "execution_count": 39,
   "metadata": {},
   "outputs": [],
   "source": [
    "reg = LinearRegression()"
   ]
  },
  {
   "cell_type": "code",
   "execution_count": 40,
   "metadata": {},
   "outputs": [
    {
     "data": {
      "text/plain": [
       "LinearRegression(copy_X=True, fit_intercept=True, n_jobs=1, normalize=False)"
      ]
     },
     "execution_count": 40,
     "metadata": {},
     "output_type": "execute_result"
    }
   ],
   "source": [
    "reg.fit(X_new_train, y_new_train)"
   ]
  },
  {
   "cell_type": "code",
   "execution_count": 41,
   "metadata": {},
   "outputs": [
    {
     "data": {
      "text/plain": [
       "array([[ 0.03550959, -0.02600604, -0.00343697,  0.00692666,  0.01152036,\n",
       "         0.01067489,  0.03098869, -0.01345921, -0.02627563, -0.01295662,\n",
       "        -0.00191848]], dtype=float32)"
      ]
     },
     "execution_count": 41,
     "metadata": {},
     "output_type": "execute_result"
    }
   ],
   "source": [
    "reg.predict(X_new_test[:1,:])"
   ]
  },
  {
   "cell_type": "code",
   "execution_count": 42,
   "metadata": {},
   "outputs": [
    {
     "data": {
      "text/plain": [
       "-0.000905854668215378"
      ]
     },
     "execution_count": 42,
     "metadata": {},
     "output_type": "execute_result"
    }
   ],
   "source": [
    "reg.score(X_new_test, y_new_test)"
   ]
  },
  {
   "cell_type": "code",
   "execution_count": 43,
   "metadata": {},
   "outputs": [
    {
     "data": {
      "text/plain": [
       "(5000, 1)"
      ]
     },
     "execution_count": 43,
     "metadata": {},
     "output_type": "execute_result"
    }
   ],
   "source": [
    "X_new_train.shape"
   ]
  },
  {
   "cell_type": "code",
   "execution_count": 44,
   "metadata": {},
   "outputs": [
    {
     "data": {
      "text/plain": [
       "(5000, 11)"
      ]
     },
     "execution_count": 44,
     "metadata": {},
     "output_type": "execute_result"
    }
   ],
   "source": [
    "y_new_train.shape"
   ]
  },
  {
   "cell_type": "markdown",
   "metadata": {},
   "source": [
    "# Using ANN"
   ]
  },
  {
   "cell_type": "code",
   "execution_count": 53,
   "metadata": {},
   "outputs": [],
   "source": [
    "model = Sequential()\n",
    "# the shape of one training example is\n",
    "input_shape = X_new_train[0].shape\n",
    "model.add(Dense(units=11, activation='relu', input_shape=input_shape))\n",
    "\n",
    "# Hidden Layers\n",
    "model.add(Dense(units=11, activation='relu'))\n",
    "model.add(Dense(units=11, activation='relu'))\n",
    "model.add(Dense(units=11, activation='relu'))\n",
    "model.add(Dense(units=11, activation='relu'))\n",
    "model.add(Dense(units=11, activation='relu'))\n",
    "model.add(Dense(units=11, activation='relu'))\n",
    "model.add(Dense(units=11, activation='relu'))\n",
    "model.add(Dense(units=11, activation='relu'))\n",
    "model.add(Dense(units=11, activation='relu'))\n",
    "model.add(Dense(units=11, activation='relu'))\n",
    "model.add(Dense(units=11, activation='relu'))\n",
    "model.add(Dense(units=11, activation='relu'))\n",
    "model.add(Dense(units=11, activation='relu'))\n",
    "model.add(Dense(units=11, activation='relu'))\n",
    "model.add(Dense(units=11, activation='relu'))\n",
    "model.add(Dense(units=11, activation='relu'))\n",
    "model.add(Dense(units=11, activation='relu'))\n",
    "model.add(Dense(units=11, activation='relu'))\n",
    "model.add(Dense(units=11, activation='relu'))\n",
    "model.add(Dense(units=11, activation='relu'))\n",
    "model.add(Dense(units=11, activation='relu'))\n",
    "model.add(Dense(units=11, activation='relu'))\n",
    "model.add(Dense(units=11, activation='relu'))\n",
    "model.add(Dense(units=11, activation='relu'))\n",
    "model.add(Dense(units=11, activation='relu'))\n",
    "model.add(Dense(units=11, activation='relu'))\n",
    "model.add(Dense(units=11, activation='relu'))\n",
    "model.add(Dense(units=11, activation='relu'))\n",
    "model.add(Dense(units=11, activation='relu'))\n",
    "model.add(Dense(units=11, activation='relu'))\n",
    "model.add(Dense(units=11, activation='relu'))\n",
    "model.add(Dense(units=11, activation='relu'))\n",
    "model.add(Dense(units=11, activation='relu'))\n",
    "\n",
    "# Output Layers\n",
    "model.add(Dense(units=11, activation='softmax'))\n",
    "model.add(Dense(units=11, activation='softmax'))\n",
    "model.add(Dense(units=11, activation='softmax'))\n",
    "model.add(Dense(units=11, activation='softmax'))\n",
    "model.add(Dense(units=11, activation='softmax'))\n",
    "model.add(Dense(units=11, activation='softmax'))\n",
    "model.add(Dense(units=11, activation='softmax'))\n",
    "model.add(Dense(units=11, activation='softmax'))\n",
    "model.add(Dense(units=11, activation='softmax'))\n",
    "model.add(Dense(units=11, activation='softmax'))\n",
    "model.add(Dense(units=11, activation='softmax'))\n",
    "model.add(Dense(units=11, activation='softmax'))\n",
    "model.add(Dense(units=11, activation='softmax'))\n",
    "model.add(Dense(units=11, activation='softmax'))\n",
    "model.add(Dense(units=11, activation='softmax'))\n",
    "model.add(Dense(units=11, activation='softmax'))\n",
    "model.add(Dense(units=11, activation='softmax'))\n",
    "model.add(Dense(units=11, activation='softmax'))\n",
    "model.add(Dense(units=11, activation='softmax'))\n",
    "model.add(Dense(units=11, activation='softmax'))\n",
    "model.add(Dense(units=11, activation='softmax'))\n",
    "model.add(Dense(units=11, activation='softmax'))\n",
    "model.add(Dense(units=11, activation='softmax'))\n",
    "model.add(Dense(units=11, activation='softmax'))\n",
    "model.add(Dense(units=11, activation='softmax'))\n",
    "model.add(Dense(units=11, activation='softmax'))\n",
    "model.add(Dense(units=11, activation='softmax'))\n",
    "model.add(Dense(units=11, activation='softmax'))\n",
    "model.add(Dense(units=11, activation='softmax'))\n",
    "model.add(Dense(units=11, activation='softmax'))\n",
    "model.add(Dense(units=11, activation='softmax'))\n",
    "model.add(Dense(units=11, activation='softmax'))\n",
    "model.add(Dense(units=11, activation='softmax'))\n",
    "model.add(Dense(units=11, activation='softmax'))\n",
    "model.add(Dense(units=11, activation='softmax'))\n",
    "model.add(Dense(units=11, activation='softmax'))\n",
    "\n",
    "# Compile the ann\n",
    "model.compile(optimizer='rmsprop', loss='binary_crossentropy', \n",
    "metrics=['accuracy'])"
   ]
  },
  {
   "cell_type": "code",
   "execution_count": 54,
   "metadata": {},
   "outputs": [
    {
     "name": "stdout",
     "output_type": "stream",
     "text": [
      "Epoch 1/50\n",
      "5000/5000 [==============================] - 4s 856us/step - loss: 0.0976 - acc: 0.0000e+00\n",
      "Epoch 2/50\n",
      "5000/5000 [==============================] - 2s 372us/step - loss: 0.0963 - acc: 0.0000e+00\n",
      "Epoch 3/50\n",
      "5000/5000 [==============================] - 2s 409us/step - loss: 0.0951 - acc: 0.0000e+00\n",
      "Epoch 4/50\n",
      "5000/5000 [==============================] - 2s 416us/step - loss: 0.0940 - acc: 0.0000e+00\n",
      "Epoch 5/50\n",
      "5000/5000 [==============================] - 2s 369us/step - loss: 0.0929 - acc: 0.0000e+00\n",
      "Epoch 6/50\n",
      "5000/5000 [==============================] - 2s 371us/step - loss: 0.0919 - acc: 0.0000e+00\n",
      "Epoch 7/50\n",
      "5000/5000 [==============================] - 2s 372us/step - loss: 0.0910 - acc: 0.0000e+00\n",
      "Epoch 8/50\n",
      "5000/5000 [==============================] - 2s 372us/step - loss: 0.0902 - acc: 0.0000e+00\n",
      "Epoch 9/50\n",
      "5000/5000 [==============================] - 2s 370us/step - loss: 0.0893 - acc: 0.0000e+00\n",
      "Epoch 10/50\n",
      "5000/5000 [==============================] - 2s 389us/step - loss: 0.0886 - acc: 0.0000e+00\n",
      "Epoch 11/50\n",
      "5000/5000 [==============================] - 2s 373us/step - loss: 0.0879 - acc: 0.0000e+00\n",
      "Epoch 12/50\n",
      "5000/5000 [==============================] - 2s 380us/step - loss: 0.0872 - acc: 0.0000e+00\n",
      "Epoch 13/50\n",
      "5000/5000 [==============================] - 2s 373us/step - loss: 0.0865 - acc: 0.0000e+00\n",
      "Epoch 14/50\n",
      "5000/5000 [==============================] - 2s 375us/step - loss: 0.0859 - acc: 0.0000e+00\n",
      "Epoch 15/50\n",
      "5000/5000 [==============================] - 2s 375us/step - loss: 0.0852 - acc: 0.0000e+00\n",
      "Epoch 16/50\n",
      "5000/5000 [==============================] - 2s 377us/step - loss: 0.0845 - acc: 0.0000e+00\n",
      "Epoch 17/50\n",
      "5000/5000 [==============================] - 2s 374us/step - loss: 0.0839 - acc: 0.0000e+00\n",
      "Epoch 18/50\n",
      "5000/5000 [==============================] - 2s 379us/step - loss: 0.0832 - acc: 0.0000e+00\n",
      "Epoch 19/50\n",
      "5000/5000 [==============================] - 2s 377us/step - loss: 0.0826 - acc: 0.0000e+00\n",
      "Epoch 20/50\n",
      "5000/5000 [==============================] - 2s 380us/step - loss: 0.0820 - acc: 0.0000e+00\n",
      "Epoch 21/50\n",
      "5000/5000 [==============================] - 2s 378us/step - loss: 0.0813 - acc: 0.0000e+00\n",
      "Epoch 22/50\n",
      "5000/5000 [==============================] - 2s 413us/step - loss: 0.0807 - acc: 0.0000e+00\n",
      "Epoch 23/50\n",
      "5000/5000 [==============================] - 2s 425us/step - loss: 0.0800 - acc: 0.0000e+00\n",
      "Epoch 24/50\n",
      "5000/5000 [==============================] - 2s 398us/step - loss: 0.0794 - acc: 0.0000e+00\n",
      "Epoch 25/50\n",
      "5000/5000 [==============================] - 2s 377us/step - loss: 0.0788 - acc: 0.0000e+00\n",
      "Epoch 26/50\n",
      "5000/5000 [==============================] - 2s 401us/step - loss: 0.0781 - acc: 0.0000e+00\n",
      "Epoch 27/50\n",
      "5000/5000 [==============================] - 2s 375us/step - loss: 0.0775 - acc: 0.0000e+00\n",
      "Epoch 28/50\n",
      "5000/5000 [==============================] - 2s 403us/step - loss: 0.0768 - acc: 0.0000e+00\n",
      "Epoch 29/50\n",
      "5000/5000 [==============================] - 2s 380us/step - loss: 0.0762 - acc: 0.0000e+00\n",
      "Epoch 30/50\n",
      "5000/5000 [==============================] - 2s 377us/step - loss: 0.0755 - acc: 0.0000e+00\n",
      "Epoch 31/50\n",
      "5000/5000 [==============================] - 2s 412us/step - loss: 0.0749 - acc: 0.0000e+00\n",
      "Epoch 32/50\n",
      "5000/5000 [==============================] - 2s 443us/step - loss: 0.0742 - acc: 0.0000e+00\n",
      "Epoch 33/50\n",
      "5000/5000 [==============================] - 2s 392us/step - loss: 0.0735 - acc: 0.0000e+00\n",
      "Epoch 34/50\n",
      "5000/5000 [==============================] - 2s 372us/step - loss: 0.0728 - acc: 0.0000e+00\n",
      "Epoch 35/50\n",
      "5000/5000 [==============================] - 2s 372us/step - loss: 0.0721 - acc: 0.0000e+00\n",
      "Epoch 36/50\n",
      "5000/5000 [==============================] - 2s 375us/step - loss: 0.0715 - acc: 0.0000e+00\n",
      "Epoch 37/50\n",
      "5000/5000 [==============================] - 2s 439us/step - loss: 0.0708 - acc: 0.0000e+00\n",
      "Epoch 38/50\n",
      "5000/5000 [==============================] - 2s 421us/step - loss: 0.0701 - acc: 0.0000e+00\n",
      "Epoch 39/50\n",
      "5000/5000 [==============================] - 2s 410us/step - loss: 0.0694 - acc: 0.0000e+00\n",
      "Epoch 40/50\n",
      "5000/5000 [==============================] - 2s 433us/step - loss: 0.0687 - acc: 0.0000e+00\n",
      "Epoch 41/50\n",
      "5000/5000 [==============================] - 11s 2ms/step - loss: 0.0679 - acc: 0.0000e+00\n",
      "Epoch 42/50\n",
      "5000/5000 [==============================] - 19s 4ms/step - loss: 0.0672 - acc: 0.0000e+00\n",
      "Epoch 43/50\n",
      "5000/5000 [==============================] - 17s 3ms/step - loss: 0.0665 - acc: 0.0000e+00\n",
      "Epoch 44/50\n",
      "5000/5000 [==============================] - 17s 3ms/step - loss: 0.0658 - acc: 0.0000e+00\n",
      "Epoch 45/50\n",
      "5000/5000 [==============================] - 17s 3ms/step - loss: 0.0651 - acc: 0.0000e+00\n",
      "Epoch 46/50\n",
      "5000/5000 [==============================] - 17s 3ms/step - loss: 0.0644 - acc: 0.0000e+00\n",
      "Epoch 47/50\n",
      "5000/5000 [==============================] - 17s 3ms/step - loss: 0.0637 - acc: 0.0000e+00\n",
      "Epoch 48/50\n",
      "5000/5000 [==============================] - 18s 4ms/step - loss: 0.0630 - acc: 0.0000e+00\n",
      "Epoch 49/50\n",
      "5000/5000 [==============================] - 18s 4ms/step - loss: 0.0622 - acc: 0.0000e+00\n",
      "Epoch 50/50\n",
      "5000/5000 [==============================] - 18s 4ms/step - loss: 0.0615 - acc: 0.0000e+00\n"
     ]
    },
    {
     "data": {
      "text/plain": [
       "<keras.callbacks.History at 0x7f00c1ffb080>"
      ]
     },
     "execution_count": 54,
     "metadata": {},
     "output_type": "execute_result"
    }
   ],
   "source": [
    "model.fit(X_new_train, y_new_train, batch_size = 10, epochs=50)"
   ]
  },
  {
   "cell_type": "code",
   "execution_count": 47,
   "metadata": {},
   "outputs": [
    {
     "data": {
      "text/plain": [
       "array([[4.6864522e-01, 6.3890555e-05, 5.1614977e-03, 2.4818735e-02,\n",
       "        4.9930815e-02, 4.3761488e-02, 4.0149298e-01, 5.4135144e-04,\n",
       "        3.0304139e-04, 8.3392480e-04, 4.4470006e-03]], dtype=float32)"
      ]
     },
     "execution_count": 47,
     "metadata": {},
     "output_type": "execute_result"
    }
   ],
   "source": [
    "model.predict(X_new_test[0, :])"
   ]
  },
  {
   "cell_type": "code",
   "execution_count": null,
   "metadata": {},
   "outputs": [],
   "source": []
  },
  {
   "cell_type": "code",
   "execution_count": null,
   "metadata": {},
   "outputs": [],
   "source": []
  },
  {
   "cell_type": "code",
   "execution_count": null,
   "metadata": {},
   "outputs": [],
   "source": []
  },
  {
   "cell_type": "code",
   "execution_count": null,
   "metadata": {},
   "outputs": [],
   "source": []
  },
  {
   "cell_type": "code",
   "execution_count": null,
   "metadata": {},
   "outputs": [],
   "source": []
  },
  {
   "cell_type": "code",
   "execution_count": null,
   "metadata": {},
   "outputs": [],
   "source": []
  },
  {
   "cell_type": "code",
   "execution_count": null,
   "metadata": {},
   "outputs": [],
   "source": []
  },
  {
   "cell_type": "code",
   "execution_count": null,
   "metadata": {},
   "outputs": [],
   "source": []
  },
  {
   "cell_type": "code",
   "execution_count": null,
   "metadata": {},
   "outputs": [],
   "source": []
  },
  {
   "cell_type": "code",
   "execution_count": null,
   "metadata": {},
   "outputs": [],
   "source": []
  },
  {
   "cell_type": "code",
   "execution_count": null,
   "metadata": {},
   "outputs": [],
   "source": []
  },
  {
   "cell_type": "code",
   "execution_count": null,
   "metadata": {},
   "outputs": [],
   "source": []
  },
  {
   "cell_type": "code",
   "execution_count": null,
   "metadata": {},
   "outputs": [],
   "source": []
  }
 ],
 "metadata": {
  "kernelspec": {
   "display_name": "Python 3",
   "language": "python",
   "name": "python3"
  },
  "language_info": {
   "codemirror_mode": {
    "name": "ipython",
    "version": 3
   },
   "file_extension": ".py",
   "mimetype": "text/x-python",
   "name": "python",
   "nbconvert_exporter": "python",
   "pygments_lexer": "ipython3",
   "version": "3.6.5"
  },
  "widgets": {
   "state": {},
   "version": "1.1.2"
  }
 },
 "nbformat": 4,
 "nbformat_minor": 2
}
